{
 "cells": [
  {
   "cell_type": "code",
   "execution_count": 1,
   "metadata": {},
   "outputs": [],
   "source": [
    "import pandas as pd\n",
    "from sklearn.metrics import mean_squared_error, r2_score\n",
    "from sklearn.preprocessing import StandardScaler\n",
    "from sklearn.linear_model import LinearRegression\n",
    "from sklearn.ensemble import RandomForestRegressor\n",
    "from xgboost import XGBRegressor\n",
    "from sklearn.neural_network import MLPRegressor\n",
    "import os\n",
    "from sklearn.metrics import mean_absolute_error\n",
    "from sklearn.model_selection import cross_val_score\n",
    "\n",
    "from tensorflow.keras.models import Sequential\n",
    "from tensorflow.keras.layers import Dense, LSTM, Conv1D, MaxPooling1D, Flatten\n",
    "from tensorflow.keras.optimizers import Adam\n",
    "from tensorflow.keras.utils import to_categorical\n",
    "from sklearn.model_selection import train_test_split\n",
    "import numpy as np\n",
    "from tensorflow.keras.layers import Input\n",
    "\n",
    "\n",
    "# DISPLAY SETTING\n",
    "pd.set_option('display.max_columns', None)\n",
    "pd.set_option('display.width', None)"
   ]
  },
  {
   "cell_type": "code",
   "execution_count": 2,
   "metadata": {},
   "outputs": [],
   "source": [
    "from sklearn.ensemble import RandomForestRegressor\n",
    "from sklearn.preprocessing import StandardScaler\n",
    "from sklearn.metrics import mean_squared_error, r2_score, mean_absolute_error\n",
    "from sklearn.model_selection import train_test_split, cross_val_score\n",
    "from sklearn.linear_model import LinearRegression\n",
    "from xgboost import XGBRegressor\n",
    "from sklearn.neural_network import MLPRegressor\n",
    "import pandas as pd\n",
    "import os"
   ]
  },
  {
   "cell_type": "code",
   "execution_count": 3,
   "metadata": {},
   "outputs": [],
   "source": [
    "# Path to the folder containing the datasets\n",
    "data_folder = \"States Data\"\n",
    "output_folder_cleaned = \"States Cleaned\"\n",
    "output_folder_predictions = \"States Prediction\"\n",
    "\n",
    "# List of states\n",
    "states = [\n",
    "    \"johor\", \"kedah\", \"kelantan\", \"malacca\", \"negerisembilan\", \"pahang\", \"perak\",\n",
    "    \"perlis\", \"pulaupinang\", \"sabah\", \"sarawak\", \"selangor\", \"terengganu\"\n",
    "]"
   ]
  },
  {
   "cell_type": "code",
   "execution_count": 4,
   "metadata": {},
   "outputs": [
    {
     "name": "stdout",
     "output_type": "stream",
     "text": [
      "Processing state: johor\n",
      "Cleaned dataset saved for johor\n",
      "Processing state: kedah\n",
      "Cleaned dataset saved for kedah\n",
      "Processing state: kelantan\n",
      "Cleaned dataset saved for kelantan\n",
      "Processing state: malacca\n",
      "Cleaned dataset saved for malacca\n",
      "Processing state: negerisembilan\n",
      "Cleaned dataset saved for negerisembilan\n",
      "Processing state: pahang\n",
      "Cleaned dataset saved for pahang\n",
      "Processing state: perak\n",
      "Cleaned dataset saved for perak\n",
      "Processing state: perlis\n",
      "Cleaned dataset saved for perlis\n",
      "Processing state: pulaupinang\n",
      "Cleaned dataset saved for pulaupinang\n",
      "Processing state: sabah\n",
      "Cleaned dataset saved for sabah\n",
      "Processing state: sarawak\n",
      "Cleaned dataset saved for sarawak\n",
      "Processing state: selangor\n",
      "Cleaned dataset saved for selangor\n",
      "Processing state: terengganu\n",
      "Cleaned dataset saved for terengganu\n"
     ]
    }
   ],
   "source": [
    "# Loop through each state\n",
    "for state in states:\n",
    "    print(f\"Processing state: {state}\")\n",
    "    \n",
    "    # Load dataset\n",
    "    file_path = os.path.join(data_folder, f\"realWeather_{state}.csv\")\n",
    "    weather_data = pd.read_csv(file_path, index_col=\"datetime\")\n",
    "    weather_data.index = pd.to_datetime(weather_data.index)\n",
    "    weather_data.columns = weather_data.columns.str.lower()\n",
    "    \n",
    "    # Clean and preprocess data\n",
    "    columns_to_keep = [\n",
    "        'temp', 'feelslike', 'dew', 'humidity', 'precip',\n",
    "        'windspeed', 'winddir', 'sealevelpressure', 'cloudcover',\n",
    "        'visibility', 'solarradiation', 'uvindex'\n",
    "    ]\n",
    "    weather_data = weather_data[columns_to_keep].copy()\n",
    "    weather_data = weather_data.apply(lambda col: col.fillna(col.median()) if col.dtype in ['float64', 'int64'] else col)\n",
    "    \n",
    "\n",
    "    cleaned_file_path = os.path.join(output_folder_cleaned, f\"{state}_cleaned_weather.csv\")\n",
    "    weather_data.to_csv(cleaned_file_path, index=True)\n",
    "    print(f\"Cleaned dataset saved for {state}\")"
   ]
  },
  {
   "cell_type": "markdown",
   "metadata": {},
   "source": [
    "# THE START"
   ]
  },
  {
   "cell_type": "code",
   "execution_count": 5,
   "metadata": {},
   "outputs": [],
   "source": [
    "def create_7_day_hourly_averages(data, target_date):\n",
    "    \"\"\"\n",
    "    Create 7-day hourly averages for each feature, ending on the day before the target date.\n",
    "    \"\"\"\n",
    "    start_date = target_date - pd.Timedelta(days=7)\n",
    "    end_date = target_date - pd.Timedelta(days=1)\n",
    "    \n",
    "    # Filter data for the 7-day window\n",
    "    seven_day_data = data.loc[start_date:end_date]\n",
    "    \n",
    "    # Calculate hourly averages\n",
    "    hourly_averages = seven_day_data.groupby(seven_day_data.index.hour).mean()\n",
    "    return hourly_averages\n",
    "\n",
    "def predict_with_7_day_averages(target_variable, test_features):\n",
    "    \"\"\"\n",
    "    Train and predict using 7-day hourly averages as features.\n",
    "    \"\"\"\n",
    "    # Define features to exclude based on target variable\n",
    "    exclude_features = [\"temp\", \"feelslike\"] if target_variable in [\"temp\", \"feelslike\"] else [\"precip\"]\n",
    "\n",
    "    # Filter training data up to 30th November 2024\n",
    "    train_data = weather_data.loc[:'2024-11-30 23:00:00']\n",
    "    X = train_data.drop(columns=exclude_features)\n",
    "    y = train_data[target_variable]\n",
    "\n",
    "    # Standardize the features\n",
    "    scaler = StandardScaler()\n",
    "    X_scaled = scaler.fit_transform(X)\n",
    "\n",
    "    # Cross-Validation Setup\n",
    "    cv = 5  # Number of folds\n",
    "\n",
    "    # Train and evaluate multiple models\n",
    "    results = {}\n",
    "\n",
    "    # Linear Regression\n",
    "    lr_model = LinearRegression()\n",
    "    lr_model.fit(X_scaled, y)\n",
    "    results['Linear Regression'] = evaluate_model(lr_model, X_scaled, y, cv)\n",
    "\n",
    "    # XGBoost\n",
    "    xgb_model = XGBRegressor(objective='reg:squarederror', n_estimators=100, learning_rate=0.1, max_depth=5, random_state=42)\n",
    "    xgb_model.fit(X_scaled, y)\n",
    "    results['XGBoost'] = evaluate_model(xgb_model, X_scaled, y, cv)\n",
    "\n",
    "    # Artificial Neural Network (ANN)\n",
    "    ann_model = MLPRegressor(hidden_layer_sizes=(64, 64), activation='relu', solver='adam', max_iter=1000, random_state=42)\n",
    "    ann_model.fit(X_scaled, y)\n",
    "    results['ANN'] = evaluate_model(ann_model, X_scaled, y, cv)\n",
    "\n",
    "    # Random Forest\n",
    "    rf_model = RandomForestRegressor(n_estimators=100, max_depth=10, random_state=42)\n",
    "    rf_model.fit(X_scaled, y)\n",
    "    results['Random Forest'] = evaluate_model(rf_model, X_scaled, y, cv)\n",
    "\n",
    "    # Map model names to their variables\n",
    "    model_map = {\n",
    "        'Linear Regression': lr_model,\n",
    "        'XGBoost': xgb_model,\n",
    "        'ANN': ann_model,\n",
    "        'Random Forest': rf_model\n",
    "    }\n",
    "\n",
    "    # Choose the best model based on R²\n",
    "    best_model_name = max(results, key=lambda k: results[k]['r2'])\n",
    "    best_model = model_map[best_model_name]\n",
    "    print(f\"Chosen Model for {target_variable}: {best_model_name}\")\n",
    "\n",
    "    # Align test features with training features (excluding relevant columns)\n",
    "    aligned_test_features = test_features.drop(columns=exclude_features)\n",
    "    test_features_scaled = scaler.transform(aligned_test_features)\n",
    "    return best_model.predict(test_features_scaled)\n",
    "\n",
    "# Evaluation function for a model\n",
    "def evaluate_model(model, X_scaled, y, cv):\n",
    "    y_pred = model.predict(X_scaled)\n",
    "    mse = mean_squared_error(y, y_pred)\n",
    "    r2 = r2_score(y, y_pred)\n",
    "    mae = mean_absolute_error(y, y_pred)\n",
    "    cv_mse = -cross_val_score(model, X_scaled, y, cv=cv, scoring='neg_mean_squared_error').mean()\n",
    "    return {'mse': mse, 'r2': r2, 'mae': mae, 'cv_mse': cv_mse}"
   ]
  },
  {
   "cell_type": "code",
   "execution_count": 6,
   "metadata": {},
   "outputs": [
    {
     "name": "stdout",
     "output_type": "stream",
     "text": [
      "Processing predictions for state: johor\n"
     ]
    },
    {
     "name": "stderr",
     "output_type": "stream",
     "text": [
      "C:\\Users\\Asus\\AppData\\Local\\Temp\\ipykernel_19688\\2961233811.py:14: FutureWarning: 'H' is deprecated and will be removed in a future version, please use 'h' instead.\n",
      "  predictions = pd.DataFrame(index=pd.date_range(target_date, periods=24, freq=\"H\"))\n"
     ]
    },
    {
     "name": "stdout",
     "output_type": "stream",
     "text": [
      "Chosen Model for temp: XGBoost\n",
      "Chosen Model for feelslike: XGBoost\n",
      "Chosen Model for precip: Random Forest\n",
      "Predictions saved for state: johor\n",
      "Processing predictions for state: kedah\n"
     ]
    },
    {
     "name": "stderr",
     "output_type": "stream",
     "text": [
      "C:\\Users\\Asus\\AppData\\Local\\Temp\\ipykernel_19688\\2961233811.py:14: FutureWarning: 'H' is deprecated and will be removed in a future version, please use 'h' instead.\n",
      "  predictions = pd.DataFrame(index=pd.date_range(target_date, periods=24, freq=\"H\"))\n"
     ]
    },
    {
     "name": "stdout",
     "output_type": "stream",
     "text": [
      "Chosen Model for temp: Random Forest\n",
      "Chosen Model for feelslike: ANN\n",
      "Chosen Model for precip: ANN\n",
      "Predictions saved for state: kedah\n",
      "Processing predictions for state: kelantan\n"
     ]
    },
    {
     "name": "stderr",
     "output_type": "stream",
     "text": [
      "C:\\Users\\Asus\\AppData\\Local\\Temp\\ipykernel_19688\\2961233811.py:14: FutureWarning: 'H' is deprecated and will be removed in a future version, please use 'h' instead.\n",
      "  predictions = pd.DataFrame(index=pd.date_range(target_date, periods=24, freq=\"H\"))\n"
     ]
    },
    {
     "name": "stdout",
     "output_type": "stream",
     "text": [
      "Chosen Model for temp: XGBoost\n",
      "Chosen Model for feelslike: XGBoost\n",
      "Chosen Model for precip: Random Forest\n",
      "Predictions saved for state: kelantan\n",
      "Processing predictions for state: malacca\n"
     ]
    },
    {
     "name": "stderr",
     "output_type": "stream",
     "text": [
      "C:\\Users\\Asus\\AppData\\Local\\Temp\\ipykernel_19688\\2961233811.py:14: FutureWarning: 'H' is deprecated and will be removed in a future version, please use 'h' instead.\n",
      "  predictions = pd.DataFrame(index=pd.date_range(target_date, periods=24, freq=\"H\"))\n"
     ]
    },
    {
     "name": "stdout",
     "output_type": "stream",
     "text": [
      "Chosen Model for temp: Random Forest\n",
      "Chosen Model for feelslike: Random Forest\n",
      "Chosen Model for precip: ANN\n",
      "Predictions saved for state: malacca\n",
      "Processing predictions for state: negerisembilan\n"
     ]
    },
    {
     "name": "stderr",
     "output_type": "stream",
     "text": [
      "C:\\Users\\Asus\\AppData\\Local\\Temp\\ipykernel_19688\\2961233811.py:14: FutureWarning: 'H' is deprecated and will be removed in a future version, please use 'h' instead.\n",
      "  predictions = pd.DataFrame(index=pd.date_range(target_date, periods=24, freq=\"H\"))\n"
     ]
    },
    {
     "name": "stdout",
     "output_type": "stream",
     "text": [
      "Chosen Model for temp: Random Forest\n",
      "Chosen Model for feelslike: Random Forest\n",
      "Chosen Model for precip: Random Forest\n",
      "Predictions saved for state: negerisembilan\n",
      "Processing predictions for state: pahang\n"
     ]
    },
    {
     "name": "stderr",
     "output_type": "stream",
     "text": [
      "C:\\Users\\Asus\\AppData\\Local\\Temp\\ipykernel_19688\\2961233811.py:14: FutureWarning: 'H' is deprecated and will be removed in a future version, please use 'h' instead.\n",
      "  predictions = pd.DataFrame(index=pd.date_range(target_date, periods=24, freq=\"H\"))\n"
     ]
    },
    {
     "name": "stdout",
     "output_type": "stream",
     "text": [
      "Chosen Model for temp: Random Forest\n",
      "Chosen Model for feelslike: ANN\n",
      "Chosen Model for precip: ANN\n",
      "Predictions saved for state: pahang\n",
      "Processing predictions for state: perak\n"
     ]
    },
    {
     "name": "stderr",
     "output_type": "stream",
     "text": [
      "C:\\Users\\Asus\\AppData\\Local\\Temp\\ipykernel_19688\\2961233811.py:14: FutureWarning: 'H' is deprecated and will be removed in a future version, please use 'h' instead.\n",
      "  predictions = pd.DataFrame(index=pd.date_range(target_date, periods=24, freq=\"H\"))\n"
     ]
    },
    {
     "name": "stdout",
     "output_type": "stream",
     "text": [
      "Chosen Model for temp: XGBoost\n",
      "Chosen Model for feelslike: Random Forest\n",
      "Chosen Model for precip: Random Forest\n",
      "Predictions saved for state: perak\n",
      "Processing predictions for state: perlis\n"
     ]
    },
    {
     "name": "stderr",
     "output_type": "stream",
     "text": [
      "C:\\Users\\Asus\\AppData\\Local\\Temp\\ipykernel_19688\\2961233811.py:14: FutureWarning: 'H' is deprecated and will be removed in a future version, please use 'h' instead.\n",
      "  predictions = pd.DataFrame(index=pd.date_range(target_date, periods=24, freq=\"H\"))\n"
     ]
    },
    {
     "name": "stdout",
     "output_type": "stream",
     "text": [
      "Chosen Model for temp: Random Forest\n",
      "Chosen Model for feelslike: Random Forest\n",
      "Chosen Model for precip: Random Forest\n",
      "Predictions saved for state: perlis\n",
      "Processing predictions for state: pulaupinang\n"
     ]
    },
    {
     "name": "stderr",
     "output_type": "stream",
     "text": [
      "C:\\Users\\Asus\\AppData\\Local\\Temp\\ipykernel_19688\\2961233811.py:14: FutureWarning: 'H' is deprecated and will be removed in a future version, please use 'h' instead.\n",
      "  predictions = pd.DataFrame(index=pd.date_range(target_date, periods=24, freq=\"H\"))\n"
     ]
    },
    {
     "name": "stdout",
     "output_type": "stream",
     "text": [
      "Chosen Model for temp: ANN\n",
      "Chosen Model for feelslike: ANN\n",
      "Chosen Model for precip: Random Forest\n",
      "Predictions saved for state: pulaupinang\n",
      "Processing predictions for state: sabah\n"
     ]
    },
    {
     "name": "stderr",
     "output_type": "stream",
     "text": [
      "C:\\Users\\Asus\\AppData\\Local\\Temp\\ipykernel_19688\\2961233811.py:14: FutureWarning: 'H' is deprecated and will be removed in a future version, please use 'h' instead.\n",
      "  predictions = pd.DataFrame(index=pd.date_range(target_date, periods=24, freq=\"H\"))\n"
     ]
    },
    {
     "name": "stdout",
     "output_type": "stream",
     "text": [
      "Chosen Model for temp: XGBoost\n",
      "Chosen Model for feelslike: XGBoost\n",
      "Chosen Model for precip: Random Forest\n",
      "Predictions saved for state: sabah\n",
      "Processing predictions for state: sarawak\n"
     ]
    },
    {
     "name": "stderr",
     "output_type": "stream",
     "text": [
      "C:\\Users\\Asus\\AppData\\Local\\Temp\\ipykernel_19688\\2961233811.py:14: FutureWarning: 'H' is deprecated and will be removed in a future version, please use 'h' instead.\n",
      "  predictions = pd.DataFrame(index=pd.date_range(target_date, periods=24, freq=\"H\"))\n"
     ]
    },
    {
     "name": "stdout",
     "output_type": "stream",
     "text": [
      "Chosen Model for temp: Random Forest\n",
      "Chosen Model for feelslike: ANN\n",
      "Chosen Model for precip: ANN\n",
      "Predictions saved for state: sarawak\n",
      "Processing predictions for state: selangor\n"
     ]
    },
    {
     "name": "stderr",
     "output_type": "stream",
     "text": [
      "C:\\Users\\Asus\\AppData\\Local\\Temp\\ipykernel_19688\\2961233811.py:14: FutureWarning: 'H' is deprecated and will be removed in a future version, please use 'h' instead.\n",
      "  predictions = pd.DataFrame(index=pd.date_range(target_date, periods=24, freq=\"H\"))\n"
     ]
    },
    {
     "name": "stdout",
     "output_type": "stream",
     "text": [
      "Chosen Model for temp: XGBoost\n",
      "Chosen Model for feelslike: XGBoost\n",
      "Chosen Model for precip: Random Forest\n",
      "Predictions saved for state: selangor\n",
      "Processing predictions for state: terengganu\n"
     ]
    },
    {
     "name": "stderr",
     "output_type": "stream",
     "text": [
      "C:\\Users\\Asus\\AppData\\Local\\Temp\\ipykernel_19688\\2961233811.py:14: FutureWarning: 'H' is deprecated and will be removed in a future version, please use 'h' instead.\n",
      "  predictions = pd.DataFrame(index=pd.date_range(target_date, periods=24, freq=\"H\"))\n"
     ]
    },
    {
     "name": "stdout",
     "output_type": "stream",
     "text": [
      "Chosen Model for temp: Random Forest\n",
      "Chosen Model for feelslike: Random Forest\n",
      "Chosen Model for precip: Random Forest\n",
      "Predictions saved for state: terengganu\n"
     ]
    }
   ],
   "source": [
    "# Main loop through each state\n",
    "for state in states:\n",
    "    print(f\"Processing predictions for state: {state}\")\n",
    "    \n",
    "    # Load cleaned dataset\n",
    "    cleaned_file_path = os.path.join(output_folder_cleaned, f\"{state}_cleaned_weather.csv\")\n",
    "    weather_data = pd.read_csv(cleaned_file_path, index_col=\"datetime\")\n",
    "    weather_data.index = pd.to_datetime(weather_data.index)\n",
    "    \n",
    "    # Predict for 2nd December 2024\n",
    "    target_date = pd.Timestamp(\"2024-12-02\")\n",
    "    hourly_averages = create_7_day_hourly_averages(weather_data, target_date)\n",
    "\n",
    "    predictions = pd.DataFrame(index=pd.date_range(target_date, periods=24, freq=\"H\"))\n",
    "    for variable in [\"temp\", \"feelslike\", \"precip\"]:\n",
    "        # Ensure test features exclude relevant columns\n",
    "        test_features = hourly_averages.copy()\n",
    "        predictions[variable] = predict_with_7_day_averages(variable, test_features)\n",
    "    \n",
    "    # Save predictions\n",
    "    prediction_file_path = os.path.join(output_folder_predictions, f\"{state}_predicted_weather.csv\")\n",
    "    predictions.to_csv(prediction_file_path, index=True)\n",
    "    print(f\"Predictions saved for state: {state}\")"
   ]
  }
 ],
 "metadata": {
  "kernelspec": {
   "display_name": "Python 3",
   "language": "python",
   "name": "python3"
  },
  "language_info": {
   "codemirror_mode": {
    "name": "ipython",
    "version": 3
   },
   "file_extension": ".py",
   "mimetype": "text/x-python",
   "name": "python",
   "nbconvert_exporter": "python",
   "pygments_lexer": "ipython3",
   "version": "3.12.2"
  }
 },
 "nbformat": 4,
 "nbformat_minor": 2
}
